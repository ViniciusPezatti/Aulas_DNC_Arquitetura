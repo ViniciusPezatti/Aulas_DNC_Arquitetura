{
  "nbformat": 4,
  "nbformat_minor": 0,
  "metadata": {
    "colab": {
      "provenance": [],
      "authorship_tag": "ABX9TyNoLa63KN2DGGB7ZV9j0te5",
      "include_colab_link": true
    },
    "kernelspec": {
      "name": "python3",
      "display_name": "Python 3"
    },
    "language_info": {
      "name": "python"
    }
  },
  "cells": [
    {
      "cell_type": "markdown",
      "metadata": {
        "id": "view-in-github",
        "colab_type": "text"
      },
      "source": [
        "<a href=\"https://colab.research.google.com/github/ViniciusPezatti/Aulas_DNC_Arquitetura/blob/main/Aulas_arquitetura.ipynb\" target=\"_parent\"><img src=\"https://colab.research.google.com/assets/colab-badge.svg\" alt=\"Open In Colab\"/></a>"
      ]
    },
    {
      "cell_type": "code",
      "execution_count": 6,
      "metadata": {
        "id": "PrWZXxLcDCHi"
      },
      "outputs": [],
      "source": [
        "def quicksort(arr):\n",
        "  if len(arr) <= 1:\n",
        "    return arr\n",
        "  pivot = arr[len(arr) // 2]\n",
        "  left = [x for x in arr if x < pivot]\n",
        "  middle = [x for x in arr if x == pivot]\n",
        "  right = [x for x in arr if x > pivot]\n",
        "  return quicksort(left) + middle + quicksort(right)\n",
        "\n",
        "\n",
        "\n",
        "def binarysearch (arr, alvo):\n",
        "  low = 0\n",
        "  high = len(arr) - 1\n",
        "  while low <= high:\n",
        "    mid = (low + high) // 2\n",
        "    tentativa = arr[mid]\n",
        "    if tentativa == alvo:\n",
        "      return mid\n",
        "    if tentativa > alvo:\n",
        "      high = mid -1\n",
        "    else:\n",
        "      low = mid + 1\n",
        "\n",
        "  return None"
      ]
    },
    {
      "cell_type": "code",
      "source": [
        "arr = [5, 3, 8, 4, 6, 3, 2, 123, 532, 15, 1, 123, 23, 4, 6, 7, 854, 974, 621, 301, 85, 67, 321, 586, 1452, 1862, 2350, 4758, 3562, 6312]"
      ],
      "metadata": {
        "id": "Ax9QNyKHG2P6"
      },
      "execution_count": 19,
      "outputs": []
    },
    {
      "cell_type": "code",
      "source": [
        "lista = quicksort(arr)\n",
        "\n",
        "alvo = 67\n",
        "\n",
        "print('lista original = ', arr)\n",
        "print('---'*50)\n",
        "print('lista ordenada = ', lista)\n",
        "print('---'*50)\n",
        "print('alvo =', alvo)\n",
        "print('---'*50)\n",
        "print('posição na lista =', binarysearch(lista, alvo))"
      ],
      "metadata": {
        "colab": {
          "base_uri": "https://localhost:8080/"
        },
        "id": "flGVj3uGGBFK",
        "outputId": "51afe8c6-fca2-48c7-c936-4b937c650f8b"
      },
      "execution_count": 24,
      "outputs": [
        {
          "output_type": "stream",
          "name": "stdout",
          "text": [
            "lista original =  [5, 3, 8, 4, 6, 3, 2, 123, 532, 15, 1, 123, 23, 4, 6, 7, 854, 974, 621, 301, 85, 67, 321, 586, 1452, 1862, 2350, 4758, 3562, 6312]\n",
            "------------------------------------------------------------------------------------------------------------------------------------------------------\n",
            "lista ordenada =  [1, 2, 3, 3, 4, 4, 5, 6, 6, 7, 8, 15, 23, 67, 85, 123, 123, 301, 321, 532, 586, 621, 854, 974, 1452, 1862, 2350, 3562, 4758, 6312]\n",
            "------------------------------------------------------------------------------------------------------------------------------------------------------\n",
            "alvo = 67\n",
            "------------------------------------------------------------------------------------------------------------------------------------------------------\n",
            "posição na lista = 13\n"
          ]
        }
      ]
    }
  ]
}