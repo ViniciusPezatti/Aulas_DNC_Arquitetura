{
  "nbformat": 4,
  "nbformat_minor": 0,
  "metadata": {
    "colab": {
      "provenance": []
    },
    "kernelspec": {
      "name": "python3",
      "display_name": "Python 3"
    },
    "language_info": {
      "name": "python"
    }
  },
  "cells": [
    {
      "cell_type": "code",
      "execution_count": 1,
      "metadata": {
        "colab": {
          "base_uri": "https://localhost:8080/"
        },
        "id": "mM406eBvJtGw",
        "outputId": "a848ec41-fff2-426b-8757-a0e9e759e223"
      },
      "outputs": [
        {
          "output_type": "stream",
          "name": "stdout",
          "text": [
            "Collecting pyspark\n",
            "  Downloading pyspark-3.5.3.tar.gz (317.3 MB)\n",
            "\u001b[2K     \u001b[90m━━━━━━━━━━━━━━━━━━━━━━━━━━━━━━━━━━━━━━━━\u001b[0m \u001b[32m317.3/317.3 MB\u001b[0m \u001b[31m4.4 MB/s\u001b[0m eta \u001b[36m0:00:00\u001b[0m\n",
            "\u001b[?25h  Preparing metadata (setup.py) ... \u001b[?25l\u001b[?25hdone\n",
            "Collecting faker\n",
            "  Downloading Faker-30.1.0-py3-none-any.whl.metadata (15 kB)\n",
            "Requirement already satisfied: py4j==0.10.9.7 in /usr/local/lib/python3.10/dist-packages (from pyspark) (0.10.9.7)\n",
            "Requirement already satisfied: python-dateutil>=2.4 in /usr/local/lib/python3.10/dist-packages (from faker) (2.8.2)\n",
            "Requirement already satisfied: typing-extensions in /usr/local/lib/python3.10/dist-packages (from faker) (4.12.2)\n",
            "Requirement already satisfied: six>=1.5 in /usr/local/lib/python3.10/dist-packages (from python-dateutil>=2.4->faker) (1.16.0)\n",
            "Downloading Faker-30.1.0-py3-none-any.whl (1.8 MB)\n",
            "\u001b[2K   \u001b[90m━━━━━━━━━━━━━━━━━━━━━━━━━━━━━━━━━━━━━━━━\u001b[0m \u001b[32m1.8/1.8 MB\u001b[0m \u001b[31m41.9 MB/s\u001b[0m eta \u001b[36m0:00:00\u001b[0m\n",
            "\u001b[?25hBuilding wheels for collected packages: pyspark\n",
            "  Building wheel for pyspark (setup.py) ... \u001b[?25l\u001b[?25hdone\n",
            "  Created wheel for pyspark: filename=pyspark-3.5.3-py2.py3-none-any.whl size=317840625 sha256=76a6a12eef6d2757244fa030e654a9005cc8b36222838f72902ed1c0f235e2eb\n",
            "  Stored in directory: /root/.cache/pip/wheels/1b/3a/92/28b93e2fbfdbb07509ca4d6f50c5e407f48dce4ddbda69a4ab\n",
            "Successfully built pyspark\n",
            "Installing collected packages: pyspark, faker\n",
            "Successfully installed faker-30.1.0 pyspark-3.5.3\n"
          ]
        }
      ],
      "source": [
        "!pip install pyspark faker\n"
      ]
    },
    {
      "cell_type": "code",
      "source": [
        "# importando bibliotecas\n",
        "from pyspark.sql import SparkSession\n",
        "from faker import Faker\n",
        "import random\n",
        "from datetime import datetime\n",
        "\n",
        "# criando definições\n",
        "spark = SparkSession.builder.appName('bank_balances').getOrCreate()\n",
        "fake = Faker()\n",
        "\n",
        "def generate_data(n):\n",
        "    data = []\n",
        "    for _ in range(n):\n",
        "        name = fake.name()\n",
        "        balance = round(random.uniform(1000, 10000), 2)\n",
        "        account_number = fake.bban()\n",
        "        city = fake.city()\n",
        "        birth_date = fake.date_of_birth(minimum_age=18, maximum_age=80)  # Mantém como datetime\n",
        "        age = datetime.today().year - birth_date.year  # Calcula a idade\n",
        "        create_account_date = fake.date_between(start_date='-1y', end_date='today').strftime('%d-%m-%Y')\n",
        "        data.append((name, balance, account_number, city, age, create_account_date, birth_date.strftime('%d-%m-%Y')))  # Converte a data de nascimento para string\n",
        "    return data\n",
        "\n",
        "# Gerando os dados\n",
        "dados = generate_data(1000)\n",
        "\n",
        "# Definindo o schema para o DataFrame\n",
        "colunas = ['name', 'balance', 'account_number', 'city', 'age', 'create_account_date', 'birth_date']\n",
        "\n",
        "# Criando o DataFrame PySpark\n",
        "df = spark.createDataFrame(dados, schema=colunas)\n",
        "\n",
        "# Exibindo os 10 primeiros registros\n",
        "df.show(10)\n"
      ],
      "metadata": {
        "colab": {
          "base_uri": "https://localhost:8080/"
        },
        "id": "7x-WhkcnJ3Bt",
        "outputId": "7cbc78cd-2630-47f7-c46e-a4898409d4a9"
      },
      "execution_count": 33,
      "outputs": [
        {
          "output_type": "stream",
          "name": "stdout",
          "text": [
            "+--------------+-------+------------------+-----------------+---+-------------------+----------+\n",
            "|          name|balance|    account_number|             city|age|create_account_date|birth_date|\n",
            "+--------------+-------+------------------+-----------------+---+-------------------+----------+\n",
            "|   Mariah Bell| 8431.2|FVJT08570298056712|      Rhondamouth| 42|         20-04-2024|30-06-1982|\n",
            "|Sheila Roberts|6635.19|ICKK54157695253346|     Lake Richard| 33|         25-02-2024|03-11-1991|\n",
            "|Madison Miller|6479.11|AVAY52861583466313|       Lake Nancy| 23|         12-01-2024|19-08-2001|\n",
            "|   Maria Jones| 1589.0|YVHP89564785564716|          Kimbury| 35|         29-05-2024|07-03-1989|\n",
            "|  Brian Wilson|6334.86|YEQX76338957272343|       Hollymouth| 46|         08-12-2023|20-09-1978|\n",
            "|Andrea Ramirez|9037.53|HIIH67285643751977| Port Krystalland| 26|         29-03-2024|25-08-1998|\n",
            "|   Tina Mercer|9076.84|UWSI26959321025454|West Destinyburgh| 21|         02-04-2024|26-03-2003|\n",
            "|  Brent Benson|3952.82|FNXB60383247243653|       Josephfurt| 43|         07-07-2024|17-09-1981|\n",
            "|  Joseph Smith| 9780.6|UPEJ36505828498570|   Lake Shawnland| 60|         04-05-2024|15-04-1964|\n",
            "|   Jessica Kim|7789.92|TFZQ19647406031142|       Dennistown| 41|         05-04-2024|13-12-1983|\n",
            "+--------------+-------+------------------+-----------------+---+-------------------+----------+\n",
            "only showing top 10 rows\n",
            "\n"
          ]
        }
      ]
    },
    {
      "cell_type": "code",
      "source": [
        "df.count()"
      ],
      "metadata": {
        "colab": {
          "base_uri": "https://localhost:8080/"
        },
        "id": "h8t5CBefKEoF",
        "outputId": "539aa8ee-a114-4f3e-b580-a6bc53f5e1f2"
      },
      "execution_count": 34,
      "outputs": [
        {
          "output_type": "execute_result",
          "data": {
            "text/plain": [
              "1000"
            ]
          },
          "metadata": {},
          "execution_count": 34
        }
      ]
    },
    {
      "cell_type": "code",
      "source": [
        "# ordenação dos dados pelo saldo\n",
        "\n",
        "df_ordenado = df.orderBy(df.balance.desc()).limit(10)\n",
        "\n",
        "# <.limit(10)> limita a 10 o tamanho da lista... podendo ser usado qualquer valor.\n",
        "\n",
        "df_ordenado.show()"
      ],
      "metadata": {
        "colab": {
          "base_uri": "https://localhost:8080/"
        },
        "id": "gLHf6S2EOLzr",
        "outputId": "30680d01-1ce7-4f21-c60d-5e210dc5412d"
      },
      "execution_count": 35,
      "outputs": [
        {
          "output_type": "stream",
          "name": "stdout",
          "text": [
            "+-----------------+-------+------------------+-----------------+---+-------------------+----------+\n",
            "|             name|balance|    account_number|             city|age|create_account_date|birth_date|\n",
            "+-----------------+-------+------------------+-----------------+---+-------------------+----------+\n",
            "| Shannon Jones MD| 9999.5|HBKA86235763589584|  Lake Danielfort| 29|         03-10-2024|09-06-1995|\n",
            "|       Sarah Holt|9992.83|WCSH50826778343841|      South Karen| 75|         01-07-2024|20-04-1949|\n",
            "|Catherine Jackson| 9976.7|LKBY82016880890963|       South Erin| 79|         10-01-2024|01-04-1945|\n",
            "|     Cynthia Ryan| 9974.0|OFFS86600258127549|      Lake Alyssa| 21|         09-02-2024|07-12-2003|\n",
            "|    Victor Holmes|9969.27|VRWA22089232448179|West Mariaborough| 31|         07-01-2024|19-05-1993|\n",
            "| Matthew Gonzalez|9945.43|DFBV58689997439701|        Derekbury| 79|         25-01-2024|06-07-1945|\n",
            "|    Kimberly Lamb|9942.51|VGKU92582111814211|   Port Kellyberg| 77|         13-08-2024|07-12-1947|\n",
            "|    Paul Martinez|9936.72|SNRY15657654648739|      West Sheila| 48|         15-10-2023|22-11-1976|\n",
            "|       Paul Hayes|9924.51|CLMZ10042437951830|    Jennifermouth| 62|         11-10-2023|27-02-1962|\n",
            "|   Steven Farrell|9914.16|YNTB80093715549558|        Jacobbury| 67|         27-03-2024|22-01-1957|\n",
            "+-----------------+-------+------------------+-----------------+---+-------------------+----------+\n",
            "\n"
          ]
        }
      ]
    },
    {
      "cell_type": "code",
      "source": [
        "# Busca de contas com saldo maior que um valor específico.\n",
        "\n",
        "valor = 5000\n",
        "\n",
        "df_valor_acima = df.filter(df.balance > valor)\n",
        "\n",
        "df_valor_acima.show()"
      ],
      "metadata": {
        "colab": {
          "base_uri": "https://localhost:8080/"
        },
        "id": "k0b5hr78O00J",
        "outputId": "5fc0d606-2261-4533-9730-c211fb594d3d"
      },
      "execution_count": 36,
      "outputs": [
        {
          "output_type": "stream",
          "name": "stdout",
          "text": [
            "+----------------+-------+------------------+-------------------+---+-------------------+----------+\n",
            "|            name|balance|    account_number|               city|age|create_account_date|birth_date|\n",
            "+----------------+-------+------------------+-------------------+---+-------------------+----------+\n",
            "|     Mariah Bell| 8431.2|FVJT08570298056712|        Rhondamouth| 42|         20-04-2024|30-06-1982|\n",
            "|  Sheila Roberts|6635.19|ICKK54157695253346|       Lake Richard| 33|         25-02-2024|03-11-1991|\n",
            "|  Madison Miller|6479.11|AVAY52861583466313|         Lake Nancy| 23|         12-01-2024|19-08-2001|\n",
            "|    Brian Wilson|6334.86|YEQX76338957272343|         Hollymouth| 46|         08-12-2023|20-09-1978|\n",
            "|  Andrea Ramirez|9037.53|HIIH67285643751977|   Port Krystalland| 26|         29-03-2024|25-08-1998|\n",
            "|     Tina Mercer|9076.84|UWSI26959321025454|  West Destinyburgh| 21|         02-04-2024|26-03-2003|\n",
            "|    Joseph Smith| 9780.6|UPEJ36505828498570|     Lake Shawnland| 60|         04-05-2024|15-04-1964|\n",
            "|     Jessica Kim|7789.92|TFZQ19647406031142|         Dennistown| 41|         05-04-2024|13-12-1983|\n",
            "|    Monica Owens|9373.18|CKQK09367801191011|          West Luke| 22|         21-10-2023|26-03-2002|\n",
            "|  Samantha Hayes|5727.86|ZBCP04703788312690|     Villanuevafort| 25|         31-07-2024|26-03-1999|\n",
            "|Kathleen Mcmahon|7070.65|PKFF08458017511469|         East Karen| 66|         21-02-2024|01-10-1958|\n",
            "|    Kelsey Evans|7698.03|QXDN29692916140243|      Denisechester| 69|         28-07-2024|31-03-1955|\n",
            "|   Victoria Shaw| 5289.5|TGNQ07890788214434|          Brianside| 79|         21-03-2024|20-01-1945|\n",
            "|   Austin Taylor|6358.65|SLNM63907511546128|            New Amy| 58|         28-07-2024|15-06-1966|\n",
            "|  Latoya Miranda|9736.79|WGJD17193444067219|           Bushport| 35|         12-03-2024|23-12-1989|\n",
            "|Stephanie Harris|7399.37|PBWD26554148068654|         Vargasstad| 28|         22-10-2023|06-02-1996|\n",
            "|     Jimmy Moody|8065.27|JCXC85895668077328|       Allisonshire| 46|         09-06-2024|15-10-1978|\n",
            "|    Ashley Rojas|7721.61|VQQD26824269286469|       Mcdonaldside| 48|         28-11-2023|06-11-1976|\n",
            "|   Shelly Duncan|9245.45|TOLG77067475699191|   Port Marvinburgh| 24|         14-11-2023|28-01-2000|\n",
            "|   Natasha Wells|7085.27|MPMU49254177311300|South Brandychester| 74|         21-10-2023|22-09-1950|\n",
            "+----------------+-------+------------------+-------------------+---+-------------------+----------+\n",
            "only showing top 20 rows\n",
            "\n"
          ]
        }
      ]
    },
    {
      "cell_type": "code",
      "source": [
        "df_valor_acima.count()"
      ],
      "metadata": {
        "colab": {
          "base_uri": "https://localhost:8080/"
        },
        "id": "xGaYhKGjPcjf",
        "outputId": "5b6b4306-a657-4e6f-88e5-b1db27d38b34"
      },
      "execution_count": 37,
      "outputs": [
        {
          "output_type": "execute_result",
          "data": {
            "text/plain": [
              "574"
            ]
          },
          "metadata": {},
          "execution_count": 37
        }
      ]
    },
    {
      "cell_type": "code",
      "source": [
        "# Busca de cliente com uma idade maior que uma específica.\n",
        "\n",
        "idade = 60\n",
        "\n",
        "df_idade_acima = df.filter(df.age > idade)\n",
        "\n",
        "df_idade_acima.show(10)\n",
        "print('-----'*50)\n",
        "print('clientes acima de', idade, \"=\", df_idade_acima.count())"
      ],
      "metadata": {
        "colab": {
          "base_uri": "https://localhost:8080/"
        },
        "id": "DelCQvRRSOhy",
        "outputId": "cb123037-4da0-4d28-e385-e67a5cf15571"
      },
      "execution_count": 38,
      "outputs": [
        {
          "output_type": "stream",
          "name": "stdout",
          "text": [
            "+----------------+-------+------------------+-------------------+---+-------------------+----------+\n",
            "|            name|balance|    account_number|               city|age|create_account_date|birth_date|\n",
            "+----------------+-------+------------------+-------------------+---+-------------------+----------+\n",
            "|Kathleen Mcmahon|7070.65|PKFF08458017511469|         East Karen| 66|         21-02-2024|01-10-1958|\n",
            "|    Kelsey Evans|7698.03|QXDN29692916140243|      Denisechester| 69|         28-07-2024|31-03-1955|\n",
            "|    Nancy Wilson| 4056.3|FUVA56228966373843|           Ericfurt| 66|         29-08-2024|26-12-1958|\n",
            "|   Victoria Shaw| 5289.5|TGNQ07890788214434|          Brianside| 79|         21-03-2024|20-01-1945|\n",
            "|  Kayla Williams|4021.67|NKTD77127444065313|         Port Laura| 64|         27-05-2024|15-12-1960|\n",
            "|   Lisa Fletcher|4790.93|WORU74390143181891|          Nunezland| 66|         29-02-2024|07-07-1958|\n",
            "|    Craig Torres|1612.86|NBQI80685921451381|       East Christy| 68|         20-01-2024|26-09-1956|\n",
            "|   Natasha Wells|7085.27|MPMU49254177311300|South Brandychester| 74|         21-10-2023|22-09-1950|\n",
            "|     Brenda Rush|6381.05|NZJU67465816170638|        Howardmouth| 69|         17-01-2024|05-08-1955|\n",
            "| Vincent Roberts|3789.75|HRTI46360690046669|          Sarahstad| 65|         13-04-2024|14-07-1959|\n",
            "+----------------+-------+------------------+-------------------+---+-------------------+----------+\n",
            "only showing top 10 rows\n",
            "\n",
            "----------------------------------------------------------------------------------------------------------------------------------------------------------------------------------------------------------------------------------------------------------\n",
            "clientes acima de 60 = 328\n"
          ]
        }
      ]
    },
    {
      "cell_type": "code",
      "source": [
        "# Definindo os limites de idade e criando a condição para saldo maior\n",
        "idade_min = 30\n",
        "idade_max = 50\n",
        "\n",
        "# Filtrando os clientes com idade entre 30 e 50 anos e saldo acima de um valor alto (por exemplo, 8000)\n",
        "df_clientes_filtrados = df.filter((df.age >= idade_min) & (df.age <= idade_max)).orderBy(df.balance.desc())\n",
        "\n",
        "# Exibindo os 10 clientes com maior saldo dentro da faixa etária\n",
        "df_clientes_filtrados.show(10)\n",
        "\n",
        "# Exibindo o número total de clientes nessa condição\n",
        "print('-----'*50)\n",
        "print('Total de clientes entre', idade_min, 'e', idade_max, 'anos =', df_clientes_filtrados.count())\n",
        "\n"
      ],
      "metadata": {
        "colab": {
          "base_uri": "https://localhost:8080/"
        },
        "id": "Pwen9bTBS-zA",
        "outputId": "588e9ba1-ac1b-426c-c4fd-eff32981ec4e"
      },
      "execution_count": 39,
      "outputs": [
        {
          "output_type": "stream",
          "name": "stdout",
          "text": [
            "+----------------+-------+------------------+-----------------+---+-------------------+----------+\n",
            "|            name|balance|    account_number|             city|age|create_account_date|birth_date|\n",
            "+----------------+-------+------------------+-----------------+---+-------------------+----------+\n",
            "|   Victor Holmes|9969.27|VRWA22089232448179|West Mariaborough| 31|         07-01-2024|19-05-1993|\n",
            "|   Paul Martinez|9936.72|SNRY15657654648739|      West Sheila| 48|         15-10-2023|22-11-1976|\n",
            "| Nicholas Murray|9911.97|OAMF45407488537824|     Rebeccaville| 35|         30-08-2024|10-01-1989|\n",
            "|  David Richmond|9905.37|VPFO15643918074331|      West Carrie| 31|         23-02-2024|24-05-1993|\n",
            "|Christy Martinez|9872.07|LDWC18619702737843|     Williamsstad| 40|         26-05-2024|02-12-1984|\n",
            "|   Kelly Stewart|9864.23|FYFY50510403240588|         Ericstad| 30|         30-10-2023|30-10-1994|\n",
            "|   Michael Moore|9838.46|DFBH12930467284233|   North Johnport| 33|         23-12-2023|13-12-1991|\n",
            "|  Patricia Ortiz|9827.78|LLRL77201937501173|West Samanthaport| 30|         11-11-2023|21-11-1994|\n",
            "|       Dustin Li|9816.26|QWMD45235295525263|    North Melanie| 48|         15-12-2023|23-09-1976|\n",
            "|     Amy Hensley| 9790.2|VUCV41733173980225|      Port Martha| 30|         13-09-2024|23-05-1994|\n",
            "+----------------+-------+------------------+-----------------+---+-------------------+----------+\n",
            "only showing top 10 rows\n",
            "\n",
            "----------------------------------------------------------------------------------------------------------------------------------------------------------------------------------------------------------------------------------------------------------\n",
            "Total de clientes entre 30 e 50 anos = 355\n"
          ]
        }
      ]
    }
  ]
}