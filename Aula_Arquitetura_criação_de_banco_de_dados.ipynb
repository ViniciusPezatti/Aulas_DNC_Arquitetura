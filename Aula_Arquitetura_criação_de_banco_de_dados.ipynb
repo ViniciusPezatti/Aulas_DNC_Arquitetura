{
  "nbformat": 4,
  "nbformat_minor": 0,
  "metadata": {
    "colab": {
      "provenance": []
    },
    "kernelspec": {
      "name": "python3",
      "display_name": "Python 3"
    },
    "language_info": {
      "name": "python"
    }
  },
  "cells": [
    {
      "cell_type": "code",
      "execution_count": 1,
      "metadata": {
        "colab": {
          "base_uri": "https://localhost:8080/"
        },
        "id": "mM406eBvJtGw",
        "outputId": "a848ec41-fff2-426b-8757-a0e9e759e223"
      },
      "outputs": [
        {
          "output_type": "stream",
          "name": "stdout",
          "text": [
            "Collecting pyspark\n",
            "  Downloading pyspark-3.5.3.tar.gz (317.3 MB)\n",
            "\u001b[2K     \u001b[90m━━━━━━━━━━━━━━━━━━━━━━━━━━━━━━━━━━━━━━━━\u001b[0m \u001b[32m317.3/317.3 MB\u001b[0m \u001b[31m4.4 MB/s\u001b[0m eta \u001b[36m0:00:00\u001b[0m\n",
            "\u001b[?25h  Preparing metadata (setup.py) ... \u001b[?25l\u001b[?25hdone\n",
            "Collecting faker\n",
            "  Downloading Faker-30.1.0-py3-none-any.whl.metadata (15 kB)\n",
            "Requirement already satisfied: py4j==0.10.9.7 in /usr/local/lib/python3.10/dist-packages (from pyspark) (0.10.9.7)\n",
            "Requirement already satisfied: python-dateutil>=2.4 in /usr/local/lib/python3.10/dist-packages (from faker) (2.8.2)\n",
            "Requirement already satisfied: typing-extensions in /usr/local/lib/python3.10/dist-packages (from faker) (4.12.2)\n",
            "Requirement already satisfied: six>=1.5 in /usr/local/lib/python3.10/dist-packages (from python-dateutil>=2.4->faker) (1.16.0)\n",
            "Downloading Faker-30.1.0-py3-none-any.whl (1.8 MB)\n",
            "\u001b[2K   \u001b[90m━━━━━━━━━━━━━━━━━━━━━━━━━━━━━━━━━━━━━━━━\u001b[0m \u001b[32m1.8/1.8 MB\u001b[0m \u001b[31m41.9 MB/s\u001b[0m eta \u001b[36m0:00:00\u001b[0m\n",
            "\u001b[?25hBuilding wheels for collected packages: pyspark\n",
            "  Building wheel for pyspark (setup.py) ... \u001b[?25l\u001b[?25hdone\n",
            "  Created wheel for pyspark: filename=pyspark-3.5.3-py2.py3-none-any.whl size=317840625 sha256=76a6a12eef6d2757244fa030e654a9005cc8b36222838f72902ed1c0f235e2eb\n",
            "  Stored in directory: /root/.cache/pip/wheels/1b/3a/92/28b93e2fbfdbb07509ca4d6f50c5e407f48dce4ddbda69a4ab\n",
            "Successfully built pyspark\n",
            "Installing collected packages: pyspark, faker\n",
            "Successfully installed faker-30.1.0 pyspark-3.5.3\n"
          ]
        }
      ],
      "source": [
        "!pip install pyspark faker\n"
      ]
    },
    {
      "cell_type": "code",
      "source": [
        "from pyspark.sql import SparkSession\n",
        "from faker import Faker\n",
        "import random\n",
        "from datetime import datetime, timedelta\n",
        "\n",
        "# Criando sessão Spark e instanciando o Faker\n",
        "spark = SparkSession.builder.appName('bank_balances').getOrCreate()\n",
        "fake = Faker()\n",
        "\n",
        "def generate_data(n):\n",
        "    data = []\n",
        "    for _ in range(n):\n",
        "        name = fake.name()\n",
        "        balance = round(random.uniform(1000, 10000), 2)\n",
        "        account_number = fake.bban()\n",
        "        city = fake.city()\n",
        "        state = fake.state()\n",
        "        birth_date = fake.date_of_birth(minimum_age=18, maximum_age=80)  # Mantém como datetime\n",
        "        age = datetime.today().year - birth_date.year  # Calcula a idade\n",
        "\n",
        "        # Calcula a data a partir dos 18 anos do cliente\n",
        "        min_account_create_date = birth_date + timedelta(days=18*365)\n",
        "\n",
        "        # Gera a data de criação da conta, começando a partir dos 18 anos do cliente\n",
        "        create_account_date = fake.date_between(start_date=min_account_create_date, end_date='today')\n",
        "        account_age = datetime.today().year - create_account_date.year  # Calcula a idade da conta\n",
        "\n",
        "        # Agora formatamos create_account_date para string depois de calcular a idade da conta\n",
        "        create_account_date_str = create_account_date.strftime('%d-%m-%Y')\n",
        "\n",
        "        # Montamos os dados e adicionamos à lista\n",
        "        data.append((name, balance, account_number, city, age, account_age, create_account_date_str, birth_date.strftime('%d-%m-%Y')))  # Converte a data de nascimento para string\n",
        "    return data\n",
        "\n",
        "# Gerando os dados\n",
        "dados = generate_data(50000)\n",
        "\n",
        "# Definindo o schema para o DataFrame\n",
        "colunas = ['name', 'balance', 'account_number', 'city', 'age', 'account_age', 'create_account_date', 'birth_date']\n",
        "\n",
        "# Criando o DataFrame PySpark\n",
        "df = spark.createDataFrame(dados, schema=colunas)\n",
        "\n",
        "# Exibindo os 10 primeiros registros\n",
        "df.show(10)\n"
      ],
      "metadata": {
        "colab": {
          "base_uri": "https://localhost:8080/"
        },
        "id": "7x-WhkcnJ3Bt",
        "outputId": "e33440b2-6af9-4f49-ae84-d8a8da7571b9"
      },
      "execution_count": 51,
      "outputs": [
        {
          "output_type": "stream",
          "name": "stdout",
          "text": [
            "+-------------------+-------+------------------+----------------+---+-----------+-------------------+----------+\n",
            "|               name|balance|    account_number|            city|age|account_age|create_account_date|birth_date|\n",
            "+-------------------+-------+------------------+----------------+---+-----------+-------------------+----------+\n",
            "|       Rachel Jones|2020.51|MTQF70972047414106|     Michaelberg| 66|         29|         18-01-1995|17-02-1958|\n",
            "|      Jacob Flowers|3204.92|GEAT95699522480569|      Harmonside| 81|         25|         04-07-1999|27-10-1943|\n",
            "|      Joseph Morgan|8674.33|SGJD66529557897484|    Michellebury| 19|          1|         09-11-2023|11-08-2005|\n",
            "|     Crystal Steele|5129.72|FNRB00054006263651| Port Josephtown| 69|         41|         16-08-1983|08-05-1955|\n",
            "|      Kevin Johnson| 8759.1|VVJO57967779343736|     Carrieville| 57|          7|         15-07-2017|28-08-1967|\n",
            "|Regina Contreras MD|5573.53|PSAW84626641264294|West Chelseafurt| 44|         22|         12-06-2002|03-05-1980|\n",
            "|    Anthony Gregory|8711.58|IBUW16014678311865|    Crawfordberg| 46|         23|         17-01-2001|24-07-1978|\n",
            "|      Michael Green|9758.25|HKWA85091535742643|    Mitchellport| 66|          1|         16-04-2023|21-12-1958|\n",
            "|      Michael Jones|5292.48|UYDW67833703329474|      Danielfurt| 26|          3|         23-09-2021|12-10-1998|\n",
            "|      Eddie Bennett|1724.83|CNFA97033332199838|      New Marcus| 66|         19|         24-10-2005|26-03-1958|\n",
            "+-------------------+-------+------------------+----------------+---+-----------+-------------------+----------+\n",
            "only showing top 10 rows\n",
            "\n"
          ]
        }
      ]
    },
    {
      "cell_type": "code",
      "source": [
        "df.count()"
      ],
      "metadata": {
        "colab": {
          "base_uri": "https://localhost:8080/"
        },
        "id": "h8t5CBefKEoF",
        "outputId": "4dc4d8de-6b07-469a-f469-6e3ca237c541"
      },
      "execution_count": 52,
      "outputs": [
        {
          "output_type": "execute_result",
          "data": {
            "text/plain": [
              "50000"
            ]
          },
          "metadata": {},
          "execution_count": 52
        }
      ]
    },
    {
      "cell_type": "code",
      "source": [
        "# ordenação dos dados pelo saldo\n",
        "\n",
        "df_ordenado = df.orderBy(df.balance.desc()).limit(10)\n",
        "\n",
        "# <.limit(10)> limita a 10 o tamanho da lista... podendo ser usado qualquer valor.\n",
        "\n",
        "df_ordenado.show()"
      ],
      "metadata": {
        "colab": {
          "base_uri": "https://localhost:8080/"
        },
        "id": "gLHf6S2EOLzr",
        "outputId": "cfce623f-8ff0-4f56-cc95-12f8a85d0a8b"
      },
      "execution_count": 53,
      "outputs": [
        {
          "output_type": "stream",
          "name": "stdout",
          "text": [
            "+------------------+-------+------------------+----------------+---+-----------+-------------------+----------+\n",
            "|              name|balance|    account_number|            city|age|account_age|create_account_date|birth_date|\n",
            "+------------------+-------+------------------+----------------+---+-----------+-------------------+----------+\n",
            "|Debbie Herrera DDS|9999.86|CVWQ55936715002212|       East Todd| 32|          8|         22-05-2016|30-12-1992|\n",
            "|     Caitlin Stark|9999.71|BZJZ52392250408146|New Kristineport| 28|          1|         18-05-2023|11-04-1996|\n",
            "|Kathleen Contreras| 9999.5|KCYK58564922964783|       Quinnland| 53|          9|         08-02-2015|27-06-1971|\n",
            "|      Rachel Davis|9999.21|DGWS36189950316315|  Hernandezmouth| 26|          5|         10-08-2019|27-08-1998|\n",
            "|    Paige Chandler|9998.93|FVXZ54735928563961|  East Terryland| 60|          6|         21-12-2018|11-10-1964|\n",
            "|   Sheri Hernandez|9998.89|SABX30282279069427|      Ritterbury| 39|         16|         11-03-2008|08-02-1985|\n",
            "| Mr. Ronald Rivera|9998.83|ETHZ16727588350212| South Cassandra| 44|         23|         18-12-2001|27-11-1980|\n",
            "|       Kevin Davis|9998.49|JISL30222742900203| South Alexburgh| 58|         30|         07-01-1994|08-01-1966|\n",
            "|     Charles Mills|9998.39|EOPC63513176426599|    South Shelby| 51|         11|         04-01-2013|05-09-1973|\n",
            "|   Gregory Dickson|9998.22|LHTM23063069644839|   East Michelle| 56|         14|         12-07-2010|16-01-1968|\n",
            "+------------------+-------+------------------+----------------+---+-----------+-------------------+----------+\n",
            "\n"
          ]
        }
      ]
    },
    {
      "cell_type": "code",
      "source": [
        "# Busca de contas com saldo maior que um valor específico.\n",
        "\n",
        "valor = 5000\n",
        "\n",
        "df_valor_acima = df.filter(df.balance > valor)\n",
        "\n",
        "df_valor_acima.show()"
      ],
      "metadata": {
        "colab": {
          "base_uri": "https://localhost:8080/"
        },
        "id": "k0b5hr78O00J",
        "outputId": "336e1997-d9dc-444c-e95c-7401a589f918"
      },
      "execution_count": 54,
      "outputs": [
        {
          "output_type": "stream",
          "name": "stdout",
          "text": [
            "+-------------------+-------+------------------+-----------------+---+-----------+-------------------+----------+\n",
            "|               name|balance|    account_number|             city|age|account_age|create_account_date|birth_date|\n",
            "+-------------------+-------+------------------+-----------------+---+-----------+-------------------+----------+\n",
            "|      Joseph Morgan|8674.33|SGJD66529557897484|     Michellebury| 19|          1|         09-11-2023|11-08-2005|\n",
            "|     Crystal Steele|5129.72|FNRB00054006263651|  Port Josephtown| 69|         41|         16-08-1983|08-05-1955|\n",
            "|      Kevin Johnson| 8759.1|VVJO57967779343736|      Carrieville| 57|          7|         15-07-2017|28-08-1967|\n",
            "|Regina Contreras MD|5573.53|PSAW84626641264294| West Chelseafurt| 44|         22|         12-06-2002|03-05-1980|\n",
            "|    Anthony Gregory|8711.58|IBUW16014678311865|     Crawfordberg| 46|         23|         17-01-2001|24-07-1978|\n",
            "|      Michael Green|9758.25|HKWA85091535742643|     Mitchellport| 66|          1|         16-04-2023|21-12-1958|\n",
            "|      Michael Jones|5292.48|UYDW67833703329474|       Danielfurt| 26|          3|         23-09-2021|12-10-1998|\n",
            "|        Colin Baker|6531.94|PTPL17318078198591|        Reneeberg| 58|         38|         19-05-1986|18-04-1966|\n",
            "|     Tiffany Hebert|8036.19|PHFF98959904655110|       Jamesville| 43|          2|         27-07-2022|08-09-1981|\n",
            "| Spencer Richardson|8261.38|NPAP56356814547895|        Yatesbury| 53|          7|         26-01-2017|19-09-1971|\n",
            "|     Brittany Davis|7135.53|SKUN62666000033001|      Port Jeremy| 65|         39|         28-12-1985|11-08-1959|\n",
            "|     Travis Barrera|5437.57|ULDL62907720719677|North Charlesfort| 46|          5|         28-12-2019|13-01-1978|\n",
            "|       Janet Burton|6361.82|SLPF99937466359206| West Christopher| 76|         27|         14-07-1997|19-05-1948|\n",
            "|     Kristine Bauer|5696.56|QBOP77664552225550|       Walkerberg| 74|         50|         10-12-1974|13-06-1950|\n",
            "|       Wayne Garcia|7276.06|KNUS32680394008473|      Lake Martin| 75|         28|         18-11-1996|12-08-1949|\n",
            "|      Steve Edwards|8704.79|TULU92441079605536|      Port Ronald| 67|         19|         11-04-2005|13-06-1957|\n",
            "|       James Moreno|7038.25|KIBE73934718698327|  Lake Sharishire| 64|         43|         09-10-1981|20-05-1960|\n",
            "|        Robin House|6394.32|KDQR77568893354446|       New Johnny| 47|         28|         01-07-1996|14-04-1977|\n",
            "|      Daniel Parker|6610.75|SGXU47711117566417|       Lake Megan| 54|         21|         05-05-2003|17-04-1970|\n",
            "|       Kara Andrews|9232.78|BYGU47464965702887|     Johnsonmouth| 64|         35|         24-05-1989|25-02-1960|\n",
            "+-------------------+-------+------------------+-----------------+---+-----------+-------------------+----------+\n",
            "only showing top 20 rows\n",
            "\n"
          ]
        }
      ]
    },
    {
      "cell_type": "code",
      "source": [
        "df_valor_acima.count()"
      ],
      "metadata": {
        "colab": {
          "base_uri": "https://localhost:8080/"
        },
        "id": "xGaYhKGjPcjf",
        "outputId": "22e85b35-610d-452f-f5a0-ad16acf800af"
      },
      "execution_count": 55,
      "outputs": [
        {
          "output_type": "execute_result",
          "data": {
            "text/plain": [
              "27749"
            ]
          },
          "metadata": {},
          "execution_count": 55
        }
      ]
    },
    {
      "cell_type": "code",
      "source": [
        "# Busca de cliente com uma idade maior que uma específica.\n",
        "\n",
        "idade = 60\n",
        "\n",
        "df_idade_acima = df.filter(df.age > idade)\n",
        "\n",
        "df_idade_acima.show(10)\n",
        "print('-----'*50)\n",
        "print('clientes acima de', idade, \"=\", df_idade_acima.count(), 'clientes')"
      ],
      "metadata": {
        "colab": {
          "base_uri": "https://localhost:8080/"
        },
        "id": "DelCQvRRSOhy",
        "outputId": "53b43c87-cf80-4937-f4c2-730914da411b"
      },
      "execution_count": 62,
      "outputs": [
        {
          "output_type": "stream",
          "name": "stdout",
          "text": [
            "+--------------+-------+------------------+----------------+---+-----------+-------------------+----------+\n",
            "|          name|balance|    account_number|            city|age|account_age|create_account_date|birth_date|\n",
            "+--------------+-------+------------------+----------------+---+-----------+-------------------+----------+\n",
            "|  Rachel Jones|2020.51|MTQF70972047414106|     Michaelberg| 66|         29|         18-01-1995|17-02-1958|\n",
            "| Jacob Flowers|3204.92|GEAT95699522480569|      Harmonside| 81|         25|         04-07-1999|27-10-1943|\n",
            "|Crystal Steele|5129.72|FNRB00054006263651| Port Josephtown| 69|         41|         16-08-1983|08-05-1955|\n",
            "| Michael Green|9758.25|HKWA85091535742643|    Mitchellport| 66|          1|         16-04-2023|21-12-1958|\n",
            "| Eddie Bennett|1724.83|CNFA97033332199838|      New Marcus| 66|         19|         24-10-2005|26-03-1958|\n",
            "|Brittany Davis|7135.53|SKUN62666000033001|     Port Jeremy| 65|         39|         28-12-1985|11-08-1959|\n",
            "|  Janet Burton|6361.82|SLPF99937466359206|West Christopher| 76|         27|         14-07-1997|19-05-1948|\n",
            "|Kristine Bauer|5696.56|QBOP77664552225550|      Walkerberg| 74|         50|         10-12-1974|13-06-1950|\n",
            "|Elizabeth Vega|3267.76|CHAV02377995905761|       Bobbytown| 75|         34|         12-01-1990|07-05-1949|\n",
            "|  Wayne Garcia|7276.06|KNUS32680394008473|     Lake Martin| 75|         28|         18-11-1996|12-08-1949|\n",
            "+--------------+-------+------------------+----------------+---+-----------+-------------------+----------+\n",
            "only showing top 10 rows\n",
            "\n",
            "----------------------------------------------------------------------------------------------------------------------------------------------------------------------------------------------------------------------------------------------------------\n",
            "clientes acima de 60 = 16211 clientes\n"
          ]
        }
      ]
    },
    {
      "cell_type": "code",
      "source": [
        "# Definindo os limites de idade e criando a condição para saldo maior\n",
        "idade_min = 30\n",
        "idade_max = 50\n",
        "idade_min_conta = 10\n",
        "\n",
        "# Filtrando os clientes com idade entre 30 e 50 anos e idade da conta menor ou igual a 10 anos\n",
        "df_clientes_filtrados = df.filter(\n",
        "    (df.age >= idade_min) &\n",
        "    (df.age <= idade_max) &\n",
        "    (df.account_age >= idade_min_conta)\n",
        ").orderBy(df.balance.desc())\n",
        "\n",
        "# Exibindo os 10 clientes com maior saldo dentro da faixa etária\n",
        "df_clientes_filtrados.show(10)\n",
        "\n",
        "# Exibindo o número total de clientes nessa condição\n",
        "print('-----' * 50)\n",
        "print()\n",
        "print('Total de clientes entre', idade_min, 'e', idade_max, 'anos', 'com conta a mais de', idade_min_conta, 'anos =', df_clientes_filtrados.count(), 'clientes')\n"
      ],
      "metadata": {
        "colab": {
          "base_uri": "https://localhost:8080/"
        },
        "id": "Pwen9bTBS-zA",
        "outputId": "c630dfdb-c41b-4b7d-84ca-44cd921b794c"
      },
      "execution_count": 61,
      "outputs": [
        {
          "output_type": "stream",
          "name": "stdout",
          "text": [
            "+-----------------+-------+------------------+------------------+---+-----------+-------------------+----------+\n",
            "|             name|balance|    account_number|              city|age|account_age|create_account_date|birth_date|\n",
            "+-----------------+-------+------------------+------------------+---+-----------+-------------------+----------+\n",
            "|  Sheri Hernandez|9998.89|SABX30282279069427|        Ritterbury| 39|         16|         11-03-2008|08-02-1985|\n",
            "|Mr. Ronald Rivera|9998.83|ETHZ16727588350212|   South Cassandra| 44|         23|         18-12-2001|27-11-1980|\n",
            "|      Tina Foster|9997.47|EXXV62472888209282|    East Christina| 41|         10|         01-07-2014|08-09-1983|\n",
            "|      Ronald Ward|9996.97|VXRX18804312720427|       West Daniel| 33|         10|         03-12-2014|16-02-1991|\n",
            "|       Mario Bell| 9996.8|BTGQ01585058489421|     New Alexandra| 35|         11|         14-07-2013|18-06-1989|\n",
            "| Amanda Carpenter|9996.57|SFWG68648572661240|West Danielleshire| 35|         12|         25-05-2012|28-01-1989|\n",
            "|       Tracy Ward|9994.73|HGRP99850059339808|   Williamschester| 49|         21|         22-02-2003|11-06-1975|\n",
            "|    Thomas Cherry|9993.02|UEVF07737694468667|South Williammouth| 49|         13|         29-12-2011|09-08-1975|\n",
            "|    David Rosario|9991.27|IMOH16954972488698|  Lake Laurenmouth| 50|         18|         21-02-2006|04-11-1974|\n",
            "|    James Herrera|9991.22|JLIU05594274363136|        East Maria| 39|         13|         17-05-2011|13-10-1985|\n",
            "+-----------------+-------+------------------+------------------+---+-----------+-------------------+----------+\n",
            "only showing top 10 rows\n",
            "\n",
            "----------------------------------------------------------------------------------------------------------------------------------------------------------------------------------------------------------------------------------------------------------\n",
            "\n",
            "Total de clientes entre 30 e 50 anos com conta a mais de 10 anos = 8649 clientes\n"
          ]
        }
      ]
    }
  ]
}
    
